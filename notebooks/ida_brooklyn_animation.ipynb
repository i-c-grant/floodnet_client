{
 "cells": [
  {
   "cell_type": "markdown",
   "metadata": {},
   "source": [
    "# FloodNet Sensor Data Animation\n",
    "\n",
    "This notebook demonstrates using the FloodNet client to query and visualize sensor data during Hurricane Ida in Brooklyn."
   ]
  },
  {
   "cell_type": "code",
   "execution_count": null,
   "metadata": {},
   "outputs": [],
   "source": [
    "# Install required packages\n",
    "!pip install floodnet-client[spatial] matplotlib"
   ]
  },
  {
   "cell_type": "code",
   "execution_count": 9,
   "metadata": {},
   "outputs": [],
   "source": [
    "import logging\n",
    "from datetime import datetime\n",
    "import geopandas as gpd\n",
    "import pandas as pd\n",
    "import matplotlib.pyplot as plt\n",
    "from matplotlib.animation import FuncAnimation\n",
    "from floodnet_client import SpatialFloodNetClient\n",
    "\n",
    "# Configure logging\n",
    "logging.basicConfig(\n",
    "    level=logging.INFO,\n",
    "    format=\"%(asctime)s - %(name)s - %(levelname)s - %(message)s\"\n",
    ")\n",
    "logger = logging.getLogger(__name__)"
   ]
  },
  {
   "cell_type": "code",
   "execution_count": 10,
   "metadata": {},
   "outputs": [
    {
     "name": "stderr",
     "output_type": "stream",
     "text": [
      "2025-01-22 21:23:55,341 - __main__ - INFO - Querying depth data during Hurricane Ida...\n",
      "2025-01-22 21:23:55,361 - floodnet_client.client - INFO - Fetching deployment data from API\n",
      "2025-01-22 21:23:55,581 - floodnet_client.client - INFO - Processed 233 deployment records\n",
      "2025-01-22 21:23:55,624 - floodnet_client.spatial - INFO - Found 74 deployments within geometry\n",
      "2025-01-22 21:23:55,624 - floodnet_client.spatial - INFO - Querying depth data from 2021-09-01 00:00:00 to 2021-09-02 23:59:00\n",
      "2025-01-22 21:23:55,625 - floodnet_client.client - INFO - Fetching depth data for 74 deployments\n",
      "2025-01-22 21:23:57,916 - floodnet_client.client - INFO - Got 510 valid readings for deployment widely_proud_lizard\n",
      "2025-01-22 21:24:00,187 - floodnet_client.client - INFO - Got 664 valid readings for deployment daily_new_falcon\n",
      "2025-01-22 21:24:01,620 - floodnet_client.client - INFO - Got 542 valid readings for deployment weekly_poetic_guinea\n",
      "2025-01-22 21:24:05,513 - floodnet_client.client - INFO - Retrieved 1716 total depth readings\n",
      "2025-01-22 21:24:05,534 - floodnet_client.spatial - INFO - Returning 1716 readings from 3 deployments\n",
      "2025-01-22 21:24:05,535 - __main__ - INFO - Found 1716 depth readings\n"
     ]
    }
   ],
   "source": [
    "# Initialize spatial client\n",
    "client = SpatialFloodNetClient()\n",
    "\n",
    "# Load Brooklyn boundary\n",
    "brooklyn = gpd.read_file(\"data/test_data.gpkg\", layer=\"brooklyn\")\n",
    "brooklyn_geom = brooklyn.geometry.iloc[0]\n",
    "\n",
    "# Define Ida time period (Sep 1-2, 2021)\n",
    "ida_start = datetime(2021, 9, 1, 0, 0)\n",
    "ida_end = datetime(2021, 9, 2, 23, 59)\n",
    "\n",
    "# Query depth data\n",
    "logger.info(\"Querying depth data during Hurricane Ida...\")\n",
    "depth_data = client.get_depth_data_within_geometry(\n",
    "    start_time=ida_start,\n",
    "    end_time=ida_end,\n",
    "    geometry=brooklyn_geom\n",
    ")\n",
    "\n",
    "if len(depth_data) > 0:\n",
    "    logger.info(f\"Found {len(depth_data)} depth readings\")\n",
    "else:\n",
    "    logger.info(\"No depth readings found for this time period\")"
   ]
  },
  {
   "cell_type": "code",
   "execution_count": 11,
   "metadata": {},
   "outputs": [
    {
     "name": "stderr",
     "output_type": "stream",
     "text": [
      "/tmp/ipykernel_27462/1202164597.py:3: FutureWarning: 'H' is deprecated and will be removed in a future version, please use 'h' instead.\n",
      "  depth_data['hour'] = depth_data['time'].dt.floor('H')\n"
     ]
    },
    {
     "ename": "AttributeError",
     "evalue": "'DatetimeArray' object has no attribute 'sort'",
     "output_type": "error",
     "traceback": [
      "\u001b[0;31m---------------------------------------------------------------------------\u001b[0m",
      "\u001b[0;31mAttributeError\u001b[0m                            Traceback (most recent call last)",
      "Cell \u001b[0;32mIn[11], line 7\u001b[0m\n\u001b[1;32m      5\u001b[0m \u001b[38;5;66;03m# Get unique hours\u001b[39;00m\n\u001b[1;32m      6\u001b[0m hours \u001b[38;5;241m=\u001b[39m depth_data[\u001b[38;5;124m'\u001b[39m\u001b[38;5;124mhour\u001b[39m\u001b[38;5;124m'\u001b[39m]\u001b[38;5;241m.\u001b[39munique()\n\u001b[0;32m----> 7\u001b[0m \u001b[43mhours\u001b[49m\u001b[38;5;241;43m.\u001b[39;49m\u001b[43msort\u001b[49m()\n\u001b[1;32m      9\u001b[0m \u001b[38;5;66;03m# Create base map\u001b[39;00m\n\u001b[1;32m     10\u001b[0m fig, ax \u001b[38;5;241m=\u001b[39m plt\u001b[38;5;241m.\u001b[39msubplots(figsize\u001b[38;5;241m=\u001b[39m(\u001b[38;5;241m10\u001b[39m, \u001b[38;5;241m10\u001b[39m))\n",
      "\u001b[0;31mAttributeError\u001b[0m: 'DatetimeArray' object has no attribute 'sort'"
     ]
    }
   ],
   "source": [
    "# Prepare data for animation\n",
    "depth_data['time'] = pd.to_datetime(depth_data['time'])\n",
    "depth_data['hour'] = depth_data['time'].dt.floor('H')\n",
    "\n",
    "# Get unique hours\n",
    "hours = depth_data['hour'].unique()\n",
    "hours.sort()\n",
    "\n",
    "# Create base map\n",
    "fig, ax = plt.subplots(figsize=(10, 10))\n",
    "brooklyn.plot(ax=ax, color='lightgray', edgecolor='black')\n",
    "\n",
    "# Initialize scatter plot\n",
    "scat = ax.scatter([], [], c=[], cmap='viridis', \n",
    "                 vmin=0, vmax=depth_data['depth_mm'].max(),\n",
    "                 s=100, alpha=0.8)\n",
    "\n",
    "# Add colorbar\n",
    "cbar = plt.colorbar(scat, ax=ax)\n",
    "cbar.set_label('Water Depth (mm)')\n",
    "\n",
    "# Add title\n",
    "title = ax.set_title('')\n",
    "\n",
    "def update(hour):\n",
    "    \"\"\"Update function for animation\"\"\"\n",
    "    # Filter data for current hour\n",
    "    current_data = depth_data[depth_data['hour'] == hour]\n",
    "    \n",
    "    # Update scatter plot\n",
    "    scat.set_offsets(current_data[['geometry.x', 'geometry.y']])\n",
    "    scat.set_array(current_data['depth_mm'])\n",
    "    \n",
    "    # Update title\n",
    "    title.set_text(f'Hurricane Ida - {hour.strftime(\"%Y-%m-%d %H:%M\")}')\n",
    "    \n",
    "    return scat, title\n",
    "\n",
    "# Create animation\n",
    "ani = FuncAnimation(fig, update, frames=hours, interval=200, blit=True)\n",
    "\n",
    "# Display animation\n",
    "plt.close()  # Prevents double display in notebook\n",
    "from IPython.display import HTML\n",
    "HTML(ani.to_jshtml())"
   ]
  },
  {
   "cell_type": "code",
   "execution_count": null,
   "metadata": {},
   "outputs": [],
   "source": [
    "# Save animation as gif\n",
    "ani.save('ida_brooklyn_animation.gif', writer='pillow', fps=2)\n",
    "logger.info(\"Animation saved as ida_brooklyn_animation.gif\")"
   ]
  }
 ],
 "metadata": {
  "kernelspec": {
   "display_name": "floodnet-client",
   "language": "python",
   "name": "python3"
  },
  "language_info": {
   "codemirror_mode": {
    "name": "ipython",
    "version": 3
   },
   "file_extension": ".py",
   "mimetype": "text/x-python",
   "name": "python",
   "nbconvert_exporter": "python",
   "pygments_lexer": "ipython3",
   "version": "3.13.1"
  }
 },
 "nbformat": 4,
 "nbformat_minor": 4
}
